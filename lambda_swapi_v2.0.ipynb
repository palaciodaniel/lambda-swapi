{
 "cells": [
  {
   "cell_type": "markdown",
   "metadata": {},
   "source": [
    "# Lambda-Swapi v.2.0\n",
    "\n",
    "Created from scratch by **Daniel Palacio** (*github.com/palaciodaniel*) - September 2020."
   ]
  },
  {
   "cell_type": "code",
   "execution_count": null,
   "metadata": {},
   "outputs": [],
   "source": [
    "from packages.lambda_swapi import lambda_swapi_func"
   ]
  },
  {
   "cell_type": "code",
   "execution_count": null,
   "metadata": {},
   "outputs": [],
   "source": [
    "# Characters selected by user\n",
    "character1 = input(\"Input the first character: \")\n",
    "character2 = input(\"Input the second character: \")\n",
    "\n",
    "lambda_swapi_func(character1, character2)"
   ]
  },
  {
   "cell_type": "code",
   "execution_count": null,
   "metadata": {},
   "outputs": [],
   "source": [
    "# This program requires the following library. If you do not\n",
    "# have it installed, you can do so by removing the '#' sign\n",
    "# below and Running this cell.\n",
    "\n",
    "# pip install fuzzywuzzy\n",
    "\n",
    "# Also, although not required by this program, it is possible \n",
    "# that you get a warning when running it, requesting the \n",
    "# Levenshtein library. If that is your case, and you do not \n",
    "# want to see that message anymore, then you can install \n",
    "# the library by following the same procedure than the \n",
    "# previous one.\n",
    "\n",
    "# pip install python-Levenshtein"
   ]
  }
 ],
 "metadata": {
  "kernelspec": {
   "display_name": "Python 3",
   "language": "python",
   "name": "python3"
  },
  "language_info": {
   "codemirror_mode": {
    "name": "ipython",
    "version": 3
   },
   "file_extension": ".py",
   "mimetype": "text/x-python",
   "name": "python",
   "nbconvert_exporter": "python",
   "pygments_lexer": "ipython3",
   "version": "3.8.3"
  }
 },
 "nbformat": 4,
 "nbformat_minor": 4
}
