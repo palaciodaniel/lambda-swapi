{
 "cells": [
  {
   "cell_type": "code",
   "execution_count": null,
   "metadata": {},
   "outputs": [],
   "source": [
    "# pip install fuzzywuzzy"
   ]
  },
  {
   "cell_type": "code",
   "execution_count": null,
   "metadata": {},
   "outputs": [],
   "source": [
    "from packages.lambda_swapi import lambda_swapi_func"
   ]
  },
  {
   "cell_type": "code",
   "execution_count": null,
   "metadata": {},
   "outputs": [],
   "source": [
    "# First page of the sections we're interested.\n",
    "swapi_people_page = \"http://swapi.dev/api/people/?page=1\"\n",
    "swapi_movies_page = \"http://swapi.dev/api/films/\"\n",
    "\n",
    "# Characters selected by user\n",
    "character1 = input(\"Input the first character: \")\n",
    "character2 = input(\"Input the second character: \")\n",
    "\n",
    "lambda_swapi_func(character1, character2, swapi_people_page, swapi_movies_page)"
   ]
  }
 ],
 "metadata": {
  "kernelspec": {
   "display_name": "Python 3",
   "language": "python",
   "name": "python3"
  },
  "language_info": {
   "codemirror_mode": {
    "name": "ipython",
    "version": 3
   },
   "file_extension": ".py",
   "mimetype": "text/x-python",
   "name": "python",
   "nbconvert_exporter": "python",
   "pygments_lexer": "ipython3",
   "version": "3.8.3"
  }
 },
 "nbformat": 4,
 "nbformat_minor": 4
}
