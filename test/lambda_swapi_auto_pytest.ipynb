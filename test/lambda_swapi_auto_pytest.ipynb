{
 "cells": [
  {
   "cell_type": "markdown",
   "metadata": {},
   "source": [
    "## lambda_swapi function tester\n",
    "\n",
    "This .ipynb file automatically look for errors on all the functions from the lambda_swapi program.\n",
    "\n",
    "Just load all the test files to a Jupyter environment, along with this file. The test files are:\n",
    "\n",
    "- test_input_cleaner.py\n",
    "- test_get_url_pages.py\n",
    "- test_get_char_films.py\n",
    "- test_get_clean_films.py\n",
    "\n",
    "Once all five files are loaded, simply go to **Cell** and **Run All**.\n",
    "\n",
    
   ]
  },
  {
   "cell_type": "code",
   "execution_count": null,
   "metadata": {},
   "outputs": [],
   "source": [
    "# Installing pytest on this environment.\n",
    "\n",
    "!pip install pytest"
   ]
  },
  {
   "cell_type": "code",
   "execution_count": null,
   "metadata": {},
   "outputs": [],
   "source": [
    "import pytest\n",
    "\n",
    "# Testing first function\n",
    "\n",
    "!pytest -k input_cleaner"
   ]
  },
  {
   "cell_type": "code",
   "execution_count": null,
   "metadata": {},
   "outputs": [],
   "source": [
    "# Testing second function\n",
    "\n",
    "!pytest -k get_url_pages"
   ]
  },
  {
   "cell_type": "code",
   "execution_count": null,
   "metadata": {},
   "outputs": [],
   "source": [
    "# Testing third function \n",
    "\n",
    "# NOTE: This may take a while!\n",
    "\n",
    "!pytest -k get_char_films"
   ]
  },
  {
   "cell_type": "code",
   "execution_count": null,
   "metadata": {},
   "outputs": [],
   "source": [
    "# Testing fourth function\n",
    "\n",
    "!pytest -k get_clean_films"
   ]
  },
  {
   "cell_type": "code",
   "execution_count": null,
   "metadata": {},
   "outputs": [],
   "source": [
    "# Test all functions simultaneously\n",
    "\n",
    "!pytest"
   ]
  }
 ],
 "metadata": {
  "kernelspec": {
   "display_name": "Python 3",
   "language": "python",
   "name": "python3"
  },
  "language_info": {
   "codemirror_mode": {
    "name": "ipython",
    "version": 3
   },
   "file_extension": ".py",
   "mimetype": "text/x-python",
   "name": "python",
   "nbconvert_exporter": "python",
   "pygments_lexer": "ipython3",
   "version": "3.6.7"
  }
 },
 "nbformat": 4,
 "nbformat_minor": 2
}
